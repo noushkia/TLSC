{
 "cells": [
  {
   "cell_type": "code",
   "execution_count": 1,
   "id": "initial_id",
   "metadata": {
    "collapsed": true,
    "ExecuteTime": {
     "end_time": "2023-10-19T04:58:25.511019827Z",
     "start_time": "2023-10-19T04:58:25.230969618Z"
    }
   },
   "outputs": [],
   "source": [
    "import pandas as pd"
   ]
  },
  {
   "cell_type": "markdown",
   "source": [
    "file_paths = [\n",
    "    'verified-smart-contracts/test/part.0.parquet',\n",
    "    'verified-smart-contracts/validation/part.0.parquet',\n",
    "    'verified-smart-contracts/train/part.0.parquet',\n",
    "    'verified-smart-contracts/train/part.1.parquet',\n",
    "    'verified-smart-contracts/train/part.2.parquet',\n",
    "    'verified-smart-contracts/train/part.3.parquet',\n",
    "    'verified-smart-contracts/train/part.4.parquet',\n",
    "]\n",
    "\n",
    "df = pd.concat([pd.read_parquet(file) for file in file_paths], ignore_index=True)\n",
    "results = df[df['source_code'].str.contains(\"block.number|block.timestamp\")]\n",
    "results = results.drop_duplicates(subset='contract_address', keep='first')\n",
    "results.reset_index(drop=True, inplace=True)"
   ],
   "metadata": {
    "collapsed": false
   },
   "id": "14e48d837df175f1"
  },
  {
   "cell_type": "code",
   "execution_count": 5,
   "outputs": [
    {
     "data": {
      "text/plain": "             contract_name                     file_path  \\\n0                 DssSpell                  DssSpell.sol   \n1      B26_DevelopmentFund       B26_DevelopmentFund.sol   \n2                 EspToken                  EspToken.sol   \n3                 GoodLuck                  GoodLuck.sol   \n4              Spacewalker    /contracts/Spacewalker.sol   \n...                    ...                           ...   \n35002           DegenFloki                DegenFloki.sol   \n35003       SoundMoneyCoin            SoundMoneyCoin.sol   \n35004    MaecenasCrowdsale         MaecenasCrowdsale.sol   \n35005       ApeBankingClub  contracts/ApeBankingClub.sol   \n35006         BubbleMaster              BubbleMaster.sol   \n\n                                 contract_address  language  \\\n0      0x8efe2c82bd31b67fa262c0d364773629f6ea828a  Solidity   \n1      0x8781e1014aa5abbce363246b5aee249723bf9cf5  Solidity   \n2      0xebd880564d73566b7479801ed6c17d1c395decb4  Solidity   \n3      0x4b3bab344bf88185189609445cbdd3b29008ff36  Solidity   \n4      0x1628b29c440bd050961d5fed5ea6b6d26d44eaf1  Solidity   \n...                                           ...       ...   \n35002  0x4a1393132a75b4a4e9a8b62a62d8852a3dcc4c28  Solidity   \n35003  0x010589b7c33034b802f7dba2c88cc9cec0f46673  Solidity   \n35004  0x9b60874d7bc4e4fbdd142e0f5a12002e4f7715a6  Solidity   \n35005  0x30178a0a600830b26c5734779c0a2967cfd392b8  Solidity   \n35006  0xa5553e3fcf1d003a53ae9bd8e94fac2f4d5e0913  Solidity   \n\n                                             source_code  \\\n0      // hevm: flattened sources of src/DssSpell.sol...   \n1      pragma solidity >=0.7.0;\\r\\n\\r\\n// SPDX-Licens...   \n2      pragma solidity 0.8.0;\\r\\n\\r\\n\\r\\n// SPDX-Lice...   \n3      /*\\r\\n\\r\\n\\r\\nTelegram : https://t.me/goodluck...   \n4      // SPDX-License-Identifier: MIT\\r\\npragma soli...   \n...                                                  ...   \n35002  // SPDX-License-Identifier: Unlicensed\\r\\n\\r\\n...   \n35003  pragma solidity 0.5.4;\\r\\n\\r\\n/* CBSNews, 12/0...   \n35004  library SafeMath {\\r\\n  function mul(uint256 a...   \n35005  // SPDX-License-Identifier: MIT\\r\\npragma soli...   \n35006  // SPDX-License-Identifier: MIT\\r\\n\\r\\npragma ...   \n\n                                                     abi  \\\n0      [{\"inputs\":[],\"stateMutability\":\"nonpayable\",\"...   \n1      [{\"anonymous\":false,\"inputs\":[{\"indexed\":true,...   \n2      [{\"inputs\":[{\"internalType\":\"uint256\",\"name\":\"...   \n3      [{\"inputs\":[{\"internalType\":\"address payable\",...   \n4      [{\"inputs\":[],\"stateMutability\":\"nonpayable\",\"...   \n...                                                  ...   \n35002  [{\"inputs\":[{\"internalType\":\"address\",\"name\":\"...   \n35003  [{\"constant\":true,\"inputs\":[],\"name\":\"name\",\"o...   \n35004  [{\"constant\":false,\"inputs\":[{\"name\":\"_newAddr...   \n35005  [{\"inputs\":[],\"stateMutability\":\"nonpayable\",\"...   \n35006  [{\"inputs\":[{\"internalType\":\"contract BubbleTo...   \n\n              compiler_version  optimization_used   runs  \\\n0      v0.6.12+commit.27d51765               True    1.0   \n1       v0.7.0+commit.9e61f92b              False  200.0   \n2       v0.8.0+commit.c7dfd78e              False  200.0   \n3       v0.8.4+commit.c7e474f2               True  200.0   \n4       v0.8.4+commit.c7e474f2              False  200.0   \n...                        ...                ...    ...   \n35002   v0.8.9+commit.e5eed63a               True  200.0   \n35003   v0.5.4+commit.9549d8ff              False  200.0   \n35004   v0.4.13+commit.fb4cb1a              False  200.0   \n35005  v0.8.10+commit.fc410830               True  200.0   \n35006   v0.6.2+commit.bacdbe57              False  200.0   \n\n                                   constructor_arguments evm_version  \\\n0                                                            Default   \n1                                                            Default   \n2      0000000000000000000000000000000000000000000000...     Default   \n3      000000000000000000000000f834363c53e2c50c1468cb...     Default   \n4                                                            Default   \n...                                                  ...         ...   \n35002  000000000000000000000000ff33d06cbd744bf6b0325a...     Default   \n35003                                                        Default   \n35004                                                        Default   \n35005                                                        Default   \n35006  000000000000000000000000ab536d1c8fdc4025f99914...     Default   \n\n                                                 library  license_type  proxy  \\\n0      DssExecLib:c061edfc9c38912e0ad4f3922aa84ee11fb...       Unknown  False   \n1                                                         BSD-3-Clause  False   \n2                                                                  MIT  False   \n3                                                            Unlicense  False   \n4                                                                       False   \n...                                                  ...           ...    ...   \n35002                                                        Unlicense  False   \n35003                                                                   False   \n35004                                                                   False   \n35005                                                                   False   \n35006                                                             None  False   \n\n      implementation                                       swarm_source  \n0                     ipfs://0055978cf72e773bc4ae8ab15f0bf0379833be4...  \n1                     ipfs://c771d4fee684817ed78447d91a4d700be6ed224...  \n2                     ipfs://6f993848cbed5cf8a7d58c92465daef97b22e48...  \n3                     ipfs://8895644a98e6d08cb2e1a6b4ab81ad69282af82...  \n4                                                                        \n...              ...                                                ...  \n35002                 ipfs://a6ef613fde4c7a4a6fc3714c15e1ececef61923...  \n35003                 bzzr://a8f97ec915aba645d58135042d1d63e27eda858...  \n35004                 bzzr://9a21872f41e268e243ce64b90dd32930139fd04...  \n35005                                                                    \n35006                 ipfs://058bfe6c4af7a010fea95e8d81658e778a07f2b...  \n\n[35007 rows x 16 columns]",
      "text/html": "<div>\n<style scoped>\n    .dataframe tbody tr th:only-of-type {\n        vertical-align: middle;\n    }\n\n    .dataframe tbody tr th {\n        vertical-align: top;\n    }\n\n    .dataframe thead th {\n        text-align: right;\n    }\n</style>\n<table border=\"1\" class=\"dataframe\">\n  <thead>\n    <tr style=\"text-align: right;\">\n      <th></th>\n      <th>contract_name</th>\n      <th>file_path</th>\n      <th>contract_address</th>\n      <th>language</th>\n      <th>source_code</th>\n      <th>abi</th>\n      <th>compiler_version</th>\n      <th>optimization_used</th>\n      <th>runs</th>\n      <th>constructor_arguments</th>\n      <th>evm_version</th>\n      <th>library</th>\n      <th>license_type</th>\n      <th>proxy</th>\n      <th>implementation</th>\n      <th>swarm_source</th>\n    </tr>\n  </thead>\n  <tbody>\n    <tr>\n      <th>0</th>\n      <td>DssSpell</td>\n      <td>DssSpell.sol</td>\n      <td>0x8efe2c82bd31b67fa262c0d364773629f6ea828a</td>\n      <td>Solidity</td>\n      <td>// hevm: flattened sources of src/DssSpell.sol...</td>\n      <td>[{\"inputs\":[],\"stateMutability\":\"nonpayable\",\"...</td>\n      <td>v0.6.12+commit.27d51765</td>\n      <td>True</td>\n      <td>1.0</td>\n      <td></td>\n      <td>Default</td>\n      <td>DssExecLib:c061edfc9c38912e0ad4f3922aa84ee11fb...</td>\n      <td>Unknown</td>\n      <td>False</td>\n      <td></td>\n      <td>ipfs://0055978cf72e773bc4ae8ab15f0bf0379833be4...</td>\n    </tr>\n    <tr>\n      <th>1</th>\n      <td>B26_DevelopmentFund</td>\n      <td>B26_DevelopmentFund.sol</td>\n      <td>0x8781e1014aa5abbce363246b5aee249723bf9cf5</td>\n      <td>Solidity</td>\n      <td>pragma solidity &gt;=0.7.0;\\r\\n\\r\\n// SPDX-Licens...</td>\n      <td>[{\"anonymous\":false,\"inputs\":[{\"indexed\":true,...</td>\n      <td>v0.7.0+commit.9e61f92b</td>\n      <td>False</td>\n      <td>200.0</td>\n      <td></td>\n      <td>Default</td>\n      <td></td>\n      <td>BSD-3-Clause</td>\n      <td>False</td>\n      <td></td>\n      <td>ipfs://c771d4fee684817ed78447d91a4d700be6ed224...</td>\n    </tr>\n    <tr>\n      <th>2</th>\n      <td>EspToken</td>\n      <td>EspToken.sol</td>\n      <td>0xebd880564d73566b7479801ed6c17d1c395decb4</td>\n      <td>Solidity</td>\n      <td>pragma solidity 0.8.0;\\r\\n\\r\\n\\r\\n// SPDX-Lice...</td>\n      <td>[{\"inputs\":[{\"internalType\":\"uint256\",\"name\":\"...</td>\n      <td>v0.8.0+commit.c7dfd78e</td>\n      <td>False</td>\n      <td>200.0</td>\n      <td>0000000000000000000000000000000000000000000000...</td>\n      <td>Default</td>\n      <td></td>\n      <td>MIT</td>\n      <td>False</td>\n      <td></td>\n      <td>ipfs://6f993848cbed5cf8a7d58c92465daef97b22e48...</td>\n    </tr>\n    <tr>\n      <th>3</th>\n      <td>GoodLuck</td>\n      <td>GoodLuck.sol</td>\n      <td>0x4b3bab344bf88185189609445cbdd3b29008ff36</td>\n      <td>Solidity</td>\n      <td>/*\\r\\n\\r\\n\\r\\nTelegram : https://t.me/goodluck...</td>\n      <td>[{\"inputs\":[{\"internalType\":\"address payable\",...</td>\n      <td>v0.8.4+commit.c7e474f2</td>\n      <td>True</td>\n      <td>200.0</td>\n      <td>000000000000000000000000f834363c53e2c50c1468cb...</td>\n      <td>Default</td>\n      <td></td>\n      <td>Unlicense</td>\n      <td>False</td>\n      <td></td>\n      <td>ipfs://8895644a98e6d08cb2e1a6b4ab81ad69282af82...</td>\n    </tr>\n    <tr>\n      <th>4</th>\n      <td>Spacewalker</td>\n      <td>/contracts/Spacewalker.sol</td>\n      <td>0x1628b29c440bd050961d5fed5ea6b6d26d44eaf1</td>\n      <td>Solidity</td>\n      <td>// SPDX-License-Identifier: MIT\\r\\npragma soli...</td>\n      <td>[{\"inputs\":[],\"stateMutability\":\"nonpayable\",\"...</td>\n      <td>v0.8.4+commit.c7e474f2</td>\n      <td>False</td>\n      <td>200.0</td>\n      <td></td>\n      <td>Default</td>\n      <td></td>\n      <td></td>\n      <td>False</td>\n      <td></td>\n      <td></td>\n    </tr>\n    <tr>\n      <th>...</th>\n      <td>...</td>\n      <td>...</td>\n      <td>...</td>\n      <td>...</td>\n      <td>...</td>\n      <td>...</td>\n      <td>...</td>\n      <td>...</td>\n      <td>...</td>\n      <td>...</td>\n      <td>...</td>\n      <td>...</td>\n      <td>...</td>\n      <td>...</td>\n      <td>...</td>\n      <td>...</td>\n    </tr>\n    <tr>\n      <th>35002</th>\n      <td>DegenFloki</td>\n      <td>DegenFloki.sol</td>\n      <td>0x4a1393132a75b4a4e9a8b62a62d8852a3dcc4c28</td>\n      <td>Solidity</td>\n      <td>// SPDX-License-Identifier: Unlicensed\\r\\n\\r\\n...</td>\n      <td>[{\"inputs\":[{\"internalType\":\"address\",\"name\":\"...</td>\n      <td>v0.8.9+commit.e5eed63a</td>\n      <td>True</td>\n      <td>200.0</td>\n      <td>000000000000000000000000ff33d06cbd744bf6b0325a...</td>\n      <td>Default</td>\n      <td></td>\n      <td>Unlicense</td>\n      <td>False</td>\n      <td></td>\n      <td>ipfs://a6ef613fde4c7a4a6fc3714c15e1ececef61923...</td>\n    </tr>\n    <tr>\n      <th>35003</th>\n      <td>SoundMoneyCoin</td>\n      <td>SoundMoneyCoin.sol</td>\n      <td>0x010589b7c33034b802f7dba2c88cc9cec0f46673</td>\n      <td>Solidity</td>\n      <td>pragma solidity 0.5.4;\\r\\n\\r\\n/* CBSNews, 12/0...</td>\n      <td>[{\"constant\":true,\"inputs\":[],\"name\":\"name\",\"o...</td>\n      <td>v0.5.4+commit.9549d8ff</td>\n      <td>False</td>\n      <td>200.0</td>\n      <td></td>\n      <td>Default</td>\n      <td></td>\n      <td></td>\n      <td>False</td>\n      <td></td>\n      <td>bzzr://a8f97ec915aba645d58135042d1d63e27eda858...</td>\n    </tr>\n    <tr>\n      <th>35004</th>\n      <td>MaecenasCrowdsale</td>\n      <td>MaecenasCrowdsale.sol</td>\n      <td>0x9b60874d7bc4e4fbdd142e0f5a12002e4f7715a6</td>\n      <td>Solidity</td>\n      <td>library SafeMath {\\r\\n  function mul(uint256 a...</td>\n      <td>[{\"constant\":false,\"inputs\":[{\"name\":\"_newAddr...</td>\n      <td>v0.4.13+commit.fb4cb1a</td>\n      <td>False</td>\n      <td>200.0</td>\n      <td></td>\n      <td>Default</td>\n      <td></td>\n      <td></td>\n      <td>False</td>\n      <td></td>\n      <td>bzzr://9a21872f41e268e243ce64b90dd32930139fd04...</td>\n    </tr>\n    <tr>\n      <th>35005</th>\n      <td>ApeBankingClub</td>\n      <td>contracts/ApeBankingClub.sol</td>\n      <td>0x30178a0a600830b26c5734779c0a2967cfd392b8</td>\n      <td>Solidity</td>\n      <td>// SPDX-License-Identifier: MIT\\r\\npragma soli...</td>\n      <td>[{\"inputs\":[],\"stateMutability\":\"nonpayable\",\"...</td>\n      <td>v0.8.10+commit.fc410830</td>\n      <td>True</td>\n      <td>200.0</td>\n      <td></td>\n      <td>Default</td>\n      <td></td>\n      <td></td>\n      <td>False</td>\n      <td></td>\n      <td></td>\n    </tr>\n    <tr>\n      <th>35006</th>\n      <td>BubbleMaster</td>\n      <td>BubbleMaster.sol</td>\n      <td>0xa5553e3fcf1d003a53ae9bd8e94fac2f4d5e0913</td>\n      <td>Solidity</td>\n      <td>// SPDX-License-Identifier: MIT\\r\\n\\r\\npragma ...</td>\n      <td>[{\"inputs\":[{\"internalType\":\"contract BubbleTo...</td>\n      <td>v0.6.2+commit.bacdbe57</td>\n      <td>False</td>\n      <td>200.0</td>\n      <td>000000000000000000000000ab536d1c8fdc4025f99914...</td>\n      <td>Default</td>\n      <td></td>\n      <td>None</td>\n      <td>False</td>\n      <td></td>\n      <td>ipfs://058bfe6c4af7a010fea95e8d81658e778a07f2b...</td>\n    </tr>\n  </tbody>\n</table>\n<p>35007 rows × 16 columns</p>\n</div>"
     },
     "execution_count": 5,
     "metadata": {},
     "output_type": "execute_result"
    }
   ],
   "source": [
    "file_paths = [\n",
    "    'verified-smart-contracts/test/part.0.parquet',\n",
    "    'verified-smart-contracts/validation/part.0.parquet',\n",
    "    'verified-smart-contracts/train/part.0.parquet',\n",
    "    'verified-smart-contracts/train/part.1.parquet',\n",
    "    'verified-smart-contracts/train/part.2.parquet',\n",
    "    'verified-smart-contracts/train/part.3.parquet',\n",
    "    'verified-smart-contracts/train/part.4.parquet',\n",
    "]\n",
    "\n",
    "df = pd.concat([pd.read_parquet(file) for file in file_paths], ignore_index=True)\n",
    "results = df[df['source_code'].str.contains(\"block.number|block.timestamp\")]\n",
    "results = results.drop_duplicates(subset='contract_address', keep='first')\n",
    "results.reset_index(drop=True, inplace=True)\n",
    "results"
   ],
   "metadata": {
    "collapsed": false,
    "ExecuteTime": {
     "end_time": "2023-10-19T05:37:16.500581352Z",
     "start_time": "2023-10-19T05:37:08.028024241Z"
    }
   },
   "id": "3e5ea8ba2523d9d6"
  },
  {
   "cell_type": "code",
   "execution_count": 6,
   "outputs": [],
   "source": [
    "results['contract_address'].to_csv('potential_tl_contract_addresses.csv', index=False)"
   ],
   "metadata": {
    "collapsed": false,
    "ExecuteTime": {
     "end_time": "2023-10-19T06:03:47.935415476Z",
     "start_time": "2023-10-19T06:03:47.863819884Z"
    }
   },
   "id": "2c709005e21379e6"
  },
  {
   "cell_type": "code",
   "execution_count": null,
   "outputs": [],
   "source": [],
   "metadata": {
    "collapsed": false
   },
   "id": "87d1b9d1c389c37c"
  }
 ],
 "metadata": {
  "kernelspec": {
   "display_name": "Python 3",
   "language": "python",
   "name": "python3"
  },
  "language_info": {
   "codemirror_mode": {
    "name": "ipython",
    "version": 2
   },
   "file_extension": ".py",
   "mimetype": "text/x-python",
   "name": "python",
   "nbconvert_exporter": "python",
   "pygments_lexer": "ipython2",
   "version": "2.7.6"
  }
 },
 "nbformat": 4,
 "nbformat_minor": 5
}
