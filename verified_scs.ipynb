{
 "cells": [
  {
   "cell_type": "code",
   "execution_count": null,
   "id": "initial_id",
   "metadata": {
    "collapsed": true
   },
   "outputs": [],
   "source": [
    "import pandas as pd"
   ]
  },
  {
   "cell_type": "code",
   "execution_count": null,
   "outputs": [],
   "source": [
    "file_paths = [\n",
    "    'verified-smart-contracts/test/part.0.parquet',\n",
    "    'verified-smart-contracts/validation/part.0.parquet',\n",
    "    'verified-smart-contracts/train/part.0.parquet',\n",
    "    'verified-smart-contracts/train/part.1.parquet',\n",
    "    'verified-smart-contracts/train/part.2.parquet',\n",
    "    'verified-smart-contracts/train/part.3.parquet',\n",
    "    'verified-smart-contracts/train/part.4.parquet',\n",
    "]\n",
    "\n",
    "df = pd.concat([pd.read_parquet(file) for file in file_paths], ignore_index=True)\n",
    "df.info()"
   ],
   "metadata": {
    "collapsed": false
   },
   "id": "5505695113b59ef8"
  },
  {
   "cell_type": "code",
   "execution_count": null,
   "outputs": [],
   "source": [
    "results = df[df['source_code'].str.contains(\"block.number|block.timestamp\")]"
   ],
   "metadata": {
    "collapsed": false
   },
   "id": "d7cb2dff02554c0f"
  },
  {
   "cell_type": "code",
   "execution_count": null,
   "outputs": [],
   "source": [
    "results = results.drop_duplicates(subset='contract_address', keep='first')"
   ],
   "metadata": {
    "collapsed": false
   },
   "id": "2c709005e21379e6"
  },
  {
   "cell_type": "code",
   "execution_count": null,
   "outputs": [],
   "source": [
    "results.reset_index(drop=True, inplace=True)"
   ],
   "metadata": {
    "collapsed": false
   },
   "id": "87d1b9d1c389c37c"
  }
 ],
 "metadata": {
  "kernelspec": {
   "display_name": "Python 3",
   "language": "python",
   "name": "python3"
  },
  "language_info": {
   "codemirror_mode": {
    "name": "ipython",
    "version": 2
   },
   "file_extension": ".py",
   "mimetype": "text/x-python",
   "name": "python",
   "nbconvert_exporter": "python",
   "pygments_lexer": "ipython2",
   "version": "2.7.6"
  }
 },
 "nbformat": 4,
 "nbformat_minor": 5
}
