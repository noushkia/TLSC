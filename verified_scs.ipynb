{
 "cells": [
  {
   "cell_type": "markdown",
   "source": [
    "file_paths = [\n",
    "    'verified-smart-contracts/test/part.0.parquet',\n",
    "    'verified-smart-contracts/validation/part.0.parquet',\n",
    "    'verified-smart-contracts/train/part.0.parquet',\n",
    "    'verified-smart-contracts/train/part.1.parquet',\n",
    "    'verified-smart-contracts/train/part.2.parquet',\n",
    "    'verified-smart-contracts/train/part.3.parquet',\n",
    "    'verified-smart-contracts/train/part.4.parquet',\n",
    "]\n",
    "\n",
    "df = pd.concat([pd.read_parquet(file) for file in file_paths], ignore_index=True)\n",
    "results = df[df['source_code'].str.contains(\"block.number|block.timestamp\")]\n",
    "results = results.drop_duplicates(subset='contract_address', keep='first')\n",
    "results.reset_index(drop=True, inplace=True)\n",
    "results['contract_address'].to_csv('potential_tl_contract_addresses.csv', index_label='index')"
   ],
   "metadata": {
    "collapsed": false
   },
   "id": "4e762de847751e9c"
  },
  {
   "cell_type": "code",
   "execution_count": 17,
   "outputs": [],
   "source": [
    "import pandas as pd"
   ],
   "metadata": {
    "collapsed": false,
    "ExecuteTime": {
     "end_time": "2023-10-25T11:13:58.687661611Z",
     "start_time": "2023-10-25T11:13:58.678162359Z"
    }
   },
   "id": "f9f183177e745d76"
  },
  {
   "cell_type": "code",
   "execution_count": 18,
   "outputs": [],
   "source": [
    "# Connect to db\n",
    "from sqlalchemy import create_engine, text\n",
    "from utils.db import get_inspect_database_uri\n",
    "\n",
    "conn = create_engine(get_inspect_database_uri()).connect()"
   ],
   "metadata": {
    "collapsed": false,
    "ExecuteTime": {
     "end_time": "2023-10-25T11:13:59.561109742Z",
     "start_time": "2023-10-25T11:13:59.500769520Z"
    }
   },
   "id": "f02d1a27c0ce07b5"
  },
  {
   "cell_type": "code",
   "execution_count": 21,
   "outputs": [],
   "source": [
    "query = f\"SELECT * FROM contracts_info\"\n",
    "addresses_df = pd.DataFrame(conn.execute(text(query)))"
   ],
   "metadata": {
    "collapsed": false,
    "ExecuteTime": {
     "end_time": "2023-10-25T11:14:19.205659349Z",
     "start_time": "2023-10-25T11:14:19.052313761Z"
    }
   },
   "id": "6dbd099c4b15cb45"
  },
  {
   "cell_type": "code",
   "execution_count": 22,
   "outputs": [
    {
     "data": {
      "text/plain": "                                 contract_address   eth_balance  \\\n0      0x4E568Fa05bD656F358f572bE663bcC5dfC9162ae  2.796505e-02   \n1      0xEb1d77cD6D9EF2F755Bb78e531bfB666E2C24B50  2.473963e-02   \n2      0x930026539b3eA3D67d3636852b0C350c2A2341b0  1.000000e-18   \n3      0x30983b29a00fFEe6A7aE94e9715A6E3Bec63d72c  4.057586e-02   \n4      0x3A3427cb9cE4c8FE213768cca4c2cB050FACfCc2  6.177598e-05   \n...                                           ...           ...   \n14446  0x8C008283E6194ed0d49B2E9EABA161Ef81615a61  6.000000e-05   \n14447  0xaB487Ed6A4519545E0840EF8E300bB049f6f45a9  3.000000e-02   \n14448  0xbb2Ae3e7abF8E268845bADbE7dF18d07D239C2DB  1.700000e-17   \n14449  0x7D12B8F36897422e2297B43b37cd8039FF9cC3B4  8.423135e-03   \n14450  0xd96668c723627206911e524c4a876e3127012Dfe  4.515145e-03   \n\n      largest_tx_hash largest_tx_block_number largest_tx_value  \n0                None                    None             None  \n1                None                    None             None  \n2                None                    None             None  \n3                None                    None             None  \n4                None                    None             None  \n...               ...                     ...              ...  \n14446            None                    None             None  \n14447            None                    None             None  \n14448            None                    None             None  \n14449            None                    None             None  \n14450            None                    None             None  \n\n[14451 rows x 5 columns]",
      "text/html": "<div>\n<style scoped>\n    .dataframe tbody tr th:only-of-type {\n        vertical-align: middle;\n    }\n\n    .dataframe tbody tr th {\n        vertical-align: top;\n    }\n\n    .dataframe thead th {\n        text-align: right;\n    }\n</style>\n<table border=\"1\" class=\"dataframe\">\n  <thead>\n    <tr style=\"text-align: right;\">\n      <th></th>\n      <th>contract_address</th>\n      <th>eth_balance</th>\n      <th>largest_tx_hash</th>\n      <th>largest_tx_block_number</th>\n      <th>largest_tx_value</th>\n    </tr>\n  </thead>\n  <tbody>\n    <tr>\n      <th>0</th>\n      <td>0x4E568Fa05bD656F358f572bE663bcC5dfC9162ae</td>\n      <td>2.796505e-02</td>\n      <td>None</td>\n      <td>None</td>\n      <td>None</td>\n    </tr>\n    <tr>\n      <th>1</th>\n      <td>0xEb1d77cD6D9EF2F755Bb78e531bfB666E2C24B50</td>\n      <td>2.473963e-02</td>\n      <td>None</td>\n      <td>None</td>\n      <td>None</td>\n    </tr>\n    <tr>\n      <th>2</th>\n      <td>0x930026539b3eA3D67d3636852b0C350c2A2341b0</td>\n      <td>1.000000e-18</td>\n      <td>None</td>\n      <td>None</td>\n      <td>None</td>\n    </tr>\n    <tr>\n      <th>3</th>\n      <td>0x30983b29a00fFEe6A7aE94e9715A6E3Bec63d72c</td>\n      <td>4.057586e-02</td>\n      <td>None</td>\n      <td>None</td>\n      <td>None</td>\n    </tr>\n    <tr>\n      <th>4</th>\n      <td>0x3A3427cb9cE4c8FE213768cca4c2cB050FACfCc2</td>\n      <td>6.177598e-05</td>\n      <td>None</td>\n      <td>None</td>\n      <td>None</td>\n    </tr>\n    <tr>\n      <th>...</th>\n      <td>...</td>\n      <td>...</td>\n      <td>...</td>\n      <td>...</td>\n      <td>...</td>\n    </tr>\n    <tr>\n      <th>14446</th>\n      <td>0x8C008283E6194ed0d49B2E9EABA161Ef81615a61</td>\n      <td>6.000000e-05</td>\n      <td>None</td>\n      <td>None</td>\n      <td>None</td>\n    </tr>\n    <tr>\n      <th>14447</th>\n      <td>0xaB487Ed6A4519545E0840EF8E300bB049f6f45a9</td>\n      <td>3.000000e-02</td>\n      <td>None</td>\n      <td>None</td>\n      <td>None</td>\n    </tr>\n    <tr>\n      <th>14448</th>\n      <td>0xbb2Ae3e7abF8E268845bADbE7dF18d07D239C2DB</td>\n      <td>1.700000e-17</td>\n      <td>None</td>\n      <td>None</td>\n      <td>None</td>\n    </tr>\n    <tr>\n      <th>14449</th>\n      <td>0x7D12B8F36897422e2297B43b37cd8039FF9cC3B4</td>\n      <td>8.423135e-03</td>\n      <td>None</td>\n      <td>None</td>\n      <td>None</td>\n    </tr>\n    <tr>\n      <th>14450</th>\n      <td>0xd96668c723627206911e524c4a876e3127012Dfe</td>\n      <td>4.515145e-03</td>\n      <td>None</td>\n      <td>None</td>\n      <td>None</td>\n    </tr>\n  </tbody>\n</table>\n<p>14451 rows × 5 columns</p>\n</div>"
     },
     "execution_count": 22,
     "metadata": {},
     "output_type": "execute_result"
    }
   ],
   "source": [
    "addresses_df"
   ],
   "metadata": {
    "collapsed": false,
    "ExecuteTime": {
     "end_time": "2023-10-25T11:14:19.511601803Z",
     "start_time": "2023-10-25T11:14:19.428264335Z"
    }
   },
   "id": "e57e406cf12242de"
  },
  {
   "cell_type": "markdown",
   "source": [
    "# get the 10 highest balance contracts\n",
    "addresses_df.sort_values(by='eth_balance', ascending=False).head(50)\n",
    "\n",
    "BASE_GAS_FEE = 11e9 # 11 Gwei\n",
    "BLOCK_GAS_LIMIT = 30e6 # 30 million units\n",
    "ETH_TO_WEI = 1e18 # 1 ETH = 1e18 WEI    \n",
    "# get the contracts whose eth balance is higher than block gas limit * base gas price\n",
    "addresses_df[addresses_df['eth_balance'] > ((BLOCK_GAS_LIMIT * BASE_GAS_FEE) / ETH_TO_WEI)]\n",
    "addresses_df.describe()"
   ],
   "metadata": {
    "collapsed": false
   },
   "id": "32d63c00a8789107"
  },
  {
   "cell_type": "code",
   "execution_count": 25,
   "outputs": [],
   "source": [
    "# get the 10 highest balance contracts\n",
    "addresses_df.sort_values(by='eth_balance', ascending=False).head(50)\n",
    "\n",
    "BASE_GAS_FEE = 11e9 # 11 Gwei\n",
    "BLOCK_GAS_LIMIT = 30e6 # 30 million units\n",
    "ETH_TO_WEI = 1e18 # 1 ETH = 1e18 WEI    \n",
    "# get the contracts whose eth balance is higher than block gas limit * base gas price\n",
    "suff_balance_addresses_df = addresses_df[addresses_df['eth_balance'] > ((BLOCK_GAS_LIMIT * BASE_GAS_FEE) / ETH_TO_WEI)]"
   ],
   "metadata": {
    "collapsed": false,
    "ExecuteTime": {
     "end_time": "2023-10-25T11:15:05.010912661Z",
     "start_time": "2023-10-25T11:15:04.950764167Z"
    }
   },
   "id": "adc872e5e268d73d"
  },
  {
   "cell_type": "code",
   "execution_count": 26,
   "outputs": [
    {
     "data": {
      "text/plain": "        eth_balance\ncount  1.445100e+04\nmean   1.425956e+00\nstd    4.175170e+01\nmin    1.000000e-18\n25%    1.400000e-17\n50%    3.000000e-03\n75%    3.214236e-02\nmax    4.203247e+03",
      "text/html": "<div>\n<style scoped>\n    .dataframe tbody tr th:only-of-type {\n        vertical-align: middle;\n    }\n\n    .dataframe tbody tr th {\n        vertical-align: top;\n    }\n\n    .dataframe thead th {\n        text-align: right;\n    }\n</style>\n<table border=\"1\" class=\"dataframe\">\n  <thead>\n    <tr style=\"text-align: right;\">\n      <th></th>\n      <th>eth_balance</th>\n    </tr>\n  </thead>\n  <tbody>\n    <tr>\n      <th>count</th>\n      <td>1.445100e+04</td>\n    </tr>\n    <tr>\n      <th>mean</th>\n      <td>1.425956e+00</td>\n    </tr>\n    <tr>\n      <th>std</th>\n      <td>4.175170e+01</td>\n    </tr>\n    <tr>\n      <th>min</th>\n      <td>1.000000e-18</td>\n    </tr>\n    <tr>\n      <th>25%</th>\n      <td>1.400000e-17</td>\n    </tr>\n    <tr>\n      <th>50%</th>\n      <td>3.000000e-03</td>\n    </tr>\n    <tr>\n      <th>75%</th>\n      <td>3.214236e-02</td>\n    </tr>\n    <tr>\n      <th>max</th>\n      <td>4.203247e+03</td>\n    </tr>\n  </tbody>\n</table>\n</div>"
     },
     "execution_count": 26,
     "metadata": {},
     "output_type": "execute_result"
    }
   ],
   "source": [
    "addresses_df.describe()"
   ],
   "metadata": {
    "collapsed": false,
    "ExecuteTime": {
     "end_time": "2023-10-25T11:15:05.404427268Z",
     "start_time": "2023-10-25T11:15:05.363543648Z"
    }
   },
   "id": "4a734f20499c4878"
  },
  {
   "cell_type": "code",
   "execution_count": 29,
   "outputs": [
    {
     "data": {
      "text/plain": "                                contract_address  eth_balance largest_tx_hash  \\\n0     0x0cA7dE30FCb509F0de273dF5C1807EA10F28cD3d     1.034894            None   \n1     0xB8a5465BFC06fc8C82385dCFf949673D7b068D1a     6.556347            None   \n2     0x2F9B2eC511D3C6765Fa2a5De1B29033F15a6A0D5   170.880000            None   \n3     0x4c5A30D74F4D7Dbf815a8141e466BE26721C143e     0.500000            None   \n4     0xfF74698A258c7B29F0C5aFb578e53e560c5012B9     7.000000            None   \n...                                          ...          ...             ...   \n1082  0x557465Ff5869A1Aa8F41ee424C13a04104225494     0.506000            None   \n1083  0x97359b3898BE13D71D0817e63D0B43F5D75C7C20     0.500392            None   \n1084  0x7d75AB6D8d6294AAa56478b0Eaf3ceB655E25cFC     3.100000            None   \n1085  0x8C96EdC82d111E3c5686F5ABE738A82d54d0b887   328.658514            None   \n1086  0x4EFD744e76D3A15b3Ca3cF4e3a2C442051e812eb     1.451982            None   \n\n     largest_tx_block_number largest_tx_value  \n0                       None             None  \n1                       None             None  \n2                       None             None  \n3                       None             None  \n4                       None             None  \n...                      ...              ...  \n1082                    None             None  \n1083                    None             None  \n1084                    None             None  \n1085                    None             None  \n1086                    None             None  \n\n[1087 rows x 5 columns]",
      "text/html": "<div>\n<style scoped>\n    .dataframe tbody tr th:only-of-type {\n        vertical-align: middle;\n    }\n\n    .dataframe tbody tr th {\n        vertical-align: top;\n    }\n\n    .dataframe thead th {\n        text-align: right;\n    }\n</style>\n<table border=\"1\" class=\"dataframe\">\n  <thead>\n    <tr style=\"text-align: right;\">\n      <th></th>\n      <th>contract_address</th>\n      <th>eth_balance</th>\n      <th>largest_tx_hash</th>\n      <th>largest_tx_block_number</th>\n      <th>largest_tx_value</th>\n    </tr>\n  </thead>\n  <tbody>\n    <tr>\n      <th>0</th>\n      <td>0x0cA7dE30FCb509F0de273dF5C1807EA10F28cD3d</td>\n      <td>1.034894</td>\n      <td>None</td>\n      <td>None</td>\n      <td>None</td>\n    </tr>\n    <tr>\n      <th>1</th>\n      <td>0xB8a5465BFC06fc8C82385dCFf949673D7b068D1a</td>\n      <td>6.556347</td>\n      <td>None</td>\n      <td>None</td>\n      <td>None</td>\n    </tr>\n    <tr>\n      <th>2</th>\n      <td>0x2F9B2eC511D3C6765Fa2a5De1B29033F15a6A0D5</td>\n      <td>170.880000</td>\n      <td>None</td>\n      <td>None</td>\n      <td>None</td>\n    </tr>\n    <tr>\n      <th>3</th>\n      <td>0x4c5A30D74F4D7Dbf815a8141e466BE26721C143e</td>\n      <td>0.500000</td>\n      <td>None</td>\n      <td>None</td>\n      <td>None</td>\n    </tr>\n    <tr>\n      <th>4</th>\n      <td>0xfF74698A258c7B29F0C5aFb578e53e560c5012B9</td>\n      <td>7.000000</td>\n      <td>None</td>\n      <td>None</td>\n      <td>None</td>\n    </tr>\n    <tr>\n      <th>...</th>\n      <td>...</td>\n      <td>...</td>\n      <td>...</td>\n      <td>...</td>\n      <td>...</td>\n    </tr>\n    <tr>\n      <th>1082</th>\n      <td>0x557465Ff5869A1Aa8F41ee424C13a04104225494</td>\n      <td>0.506000</td>\n      <td>None</td>\n      <td>None</td>\n      <td>None</td>\n    </tr>\n    <tr>\n      <th>1083</th>\n      <td>0x97359b3898BE13D71D0817e63D0B43F5D75C7C20</td>\n      <td>0.500392</td>\n      <td>None</td>\n      <td>None</td>\n      <td>None</td>\n    </tr>\n    <tr>\n      <th>1084</th>\n      <td>0x7d75AB6D8d6294AAa56478b0Eaf3ceB655E25cFC</td>\n      <td>3.100000</td>\n      <td>None</td>\n      <td>None</td>\n      <td>None</td>\n    </tr>\n    <tr>\n      <th>1085</th>\n      <td>0x8C96EdC82d111E3c5686F5ABE738A82d54d0b887</td>\n      <td>328.658514</td>\n      <td>None</td>\n      <td>None</td>\n      <td>None</td>\n    </tr>\n    <tr>\n      <th>1086</th>\n      <td>0x4EFD744e76D3A15b3Ca3cF4e3a2C442051e812eb</td>\n      <td>1.451982</td>\n      <td>None</td>\n      <td>None</td>\n      <td>None</td>\n    </tr>\n  </tbody>\n</table>\n<p>1087 rows × 5 columns</p>\n</div>"
     },
     "execution_count": 29,
     "metadata": {},
     "output_type": "execute_result"
    }
   ],
   "source": [
    "suff_balance_addresses_df.reset_index(drop=True, inplace=True)\n",
    "suff_balance_addresses_df"
   ],
   "metadata": {
    "collapsed": false,
    "ExecuteTime": {
     "end_time": "2023-10-25T11:15:26.120347319Z",
     "start_time": "2023-10-25T11:15:26.110059829Z"
    }
   },
   "id": "3e86af5e29acc549"
  },
  {
   "cell_type": "markdown",
   "source": [
    "import requests\n",
    "\n",
    "def fetch_latest_contract_transactions(contracts_address: str, start_block: int, end_block: int, api_key: str):\n",
    "    url =  f\"https://api.etherscan.io/api?module=account&action=txlist&address={contracts_address}&startblock={start_block}&endblock={end_block}&page=1&offset=10000&sort=desc&apikey={api_key}\"\n",
    "    response = requests.get(url)\n",
    "    return response.json()['result']"
   ],
   "metadata": {
    "collapsed": false
   },
   "id": "ba0b86e7eb6ab631"
  },
  {
   "cell_type": "markdown",
   "source": [
    "OLDEST_BLOCK = 15649595  # first block on October 2022\n",
    "NEWEST_BLOCK = 18375639  # last block on October 2023\n",
    "API_KEY = \"T48DJNQHTTC6TGKR4ZW19ZSBR9XH17R5S3\"\n",
    "address = addresses_df.sort_values(by='eth_balance', ascending=False).iloc[0]['contract_address']\n",
    "transactions = fetch_latest_contract_transactions(address, OLDEST_BLOCK, NEWEST_BLOCK, API_KEY)"
   ],
   "metadata": {
    "collapsed": false
   },
   "id": "2cd8e61460c82081"
  },
  {
   "cell_type": "code",
   "execution_count": 5,
   "outputs": [],
   "source": [
    "verified_contract_addresses = pd.read_csv('potential_tl_contract_addresses.csv')['contract_address'].tolist()"
   ],
   "metadata": {
    "collapsed": false,
    "ExecuteTime": {
     "end_time": "2023-10-25T06:46:32.468131204Z",
     "start_time": "2023-10-25T06:46:32.421592280Z"
    }
   },
   "id": "c443a2eb3e4cca9d"
  },
  {
   "cell_type": "code",
   "execution_count": 9,
   "outputs": [],
   "source": [
    "# Check if all the verified smart contracts are in the addresses_df\n",
    "not_available = [\"\"]*len(verified_contract_addresses)\n",
    "i = 0\n",
    "for address in verified_contract_addresses:\n",
    "    if address not in addresses_df['contract_address'].tolist():\n",
    "        not_available[i] = address\n",
    "        i += 1"
   ],
   "metadata": {
    "collapsed": false,
    "ExecuteTime": {
     "end_time": "2023-10-25T06:55:31.300630369Z",
     "start_time": "2023-10-25T06:50:15.949554764Z"
    }
   },
   "id": "2413cb635e6a8151"
  },
  {
   "cell_type": "code",
   "execution_count": 16,
   "outputs": [
    {
     "data": {
      "text/plain": "0         0x53424a11FADeadF4fDBB7279b3bcD43F552Ae6a8\n1         0x554BC8CBe6B48B6ae4C2b43DdBb691Ecc55F7cEB\n2         0xFb4270061d86189776A2dAFea877968DfbE9504b\n3         0xC66c050440440FEF0319eb5fc0060Ee97f1d9eB8\n4         0x0E6483423a46741bC4a2d2eA63Bd295e3cb12879\n                             ...                    \n216053    0x930Ce9D2A6F31D41D0caCa15CA653FF0dfb8Cb36\n216054    0x99384b884e572d0B1fF309B63A291850C4D9Bf97\n216055    0x7515cd37707c700a0bd17D3E925b1b94f2C9B83f\n216056    0x48f0572C5898E740Cfdb18efb276f19653aB9564\n216057    0xDB03f9ecA02CFFefBb33acDE1a42F78b0eB0Ebd3\nName: contract_address, Length: 216058, dtype: object"
     },
     "execution_count": 16,
     "metadata": {},
     "output_type": "execute_result"
    }
   ],
   "source": [
    "addresses_df['contract_address']"
   ],
   "metadata": {
    "collapsed": false,
    "ExecuteTime": {
     "end_time": "2023-10-25T07:00:13.396670351Z",
     "start_time": "2023-10-25T07:00:13.385755480Z"
    }
   },
   "id": "3ee34d6d0d2f986d"
  },
  {
   "cell_type": "code",
   "execution_count": null,
   "outputs": [],
   "source": [],
   "metadata": {
    "collapsed": false
   },
   "id": "c456854e95d48140"
  }
 ],
 "metadata": {
  "kernelspec": {
   "display_name": "Python 3",
   "language": "python",
   "name": "python3"
  },
  "language_info": {
   "codemirror_mode": {
    "name": "ipython",
    "version": 2
   },
   "file_extension": ".py",
   "mimetype": "text/x-python",
   "name": "python",
   "nbconvert_exporter": "python",
   "pygments_lexer": "ipython2",
   "version": "2.7.6"
  }
 },
 "nbformat": 4,
 "nbformat_minor": 5
}
