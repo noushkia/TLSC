{
 "cells": [
  {
   "cell_type": "code",
   "execution_count": null,
   "outputs": [],
   "source": [
    "from web3 import Web3\n",
    "from web3.beacon import Beacon"
   ],
   "metadata": {
    "collapsed": false
   },
   "id": "e4d4d1e46efa65d6"
  },
  {
   "cell_type": "code",
   "execution_count": null,
   "outputs": [],
   "source": [
    "web3 = Web3(Web3.HTTPProvider(\"https://mainnet.infura.io/v3/39e54952fe5548a5b4c69cc27528207f\"))"
   ],
   "metadata": {
    "collapsed": false
   },
   "id": "6c24e7343c184072"
  },
  {
   "cell_type": "code",
   "execution_count": null,
   "outputs": [],
   "source": [
    "block = web3.eth.get_block(15537395, full_transactions=False)\n",
    "block"
   ],
   "metadata": {
    "collapsed": false
   },
   "id": "d468af72f9e130a6"
  },
  {
   "cell_type": "code",
   "execution_count": null,
   "outputs": [],
   "source": [
    "parent_hash = block.parentHash.hex()\n",
    "uncles_hash = block.sha3Uncles.hex()\n",
    "coinbase = block.miner  # lowercase\n",
    "state_root = block.stateRoot.hex()\n",
    "transactions_root = block.transactionsRoot.hex()\n",
    "receipts_root = block.receiptsRoot.hex()\n",
    "bloom = block.logsBloom.hex()\n",
    "difficulty = block.difficulty\n",
    "number = block.number\n",
    "gas_limit = block.gasLimit\n",
    "gas_used = block.gasUsed\n",
    "timestamp = block.timestamp\n",
    "extra_data = block.extraData.hex()\n",
    "mix_hash = block.mixHash.hex()\n",
    "nonce = block.nonce.hex()\n",
    "base_fee_per_gas = block.baseFeePerGas  # Added for EIP-1559"
   ],
   "metadata": {
    "collapsed": false
   },
   "id": "50e152d4fcf33d03"
  },
  {
   "cell_type": "code",
   "execution_count": null,
   "outputs": [],
   "source": [
    "difficulty_hex = hex(difficulty)\n",
    "gas_limit_hex = hex(gas_limit)\n",
    "gas_used_hex = hex(gas_used)\n",
    "timestamp_hex = hex(timestamp)\n",
    "number_hex = hex(number)\n",
    "base_fee_per_gas = hex(base_fee_per_gas)"
   ],
   "metadata": {
    "collapsed": false
   },
   "id": "53d9cda119f458e1"
  },
  {
   "cell_type": "code",
   "execution_count": null,
   "outputs": [],
   "source": [
    "difficulty_hex = '0x' if difficulty_hex == '0x0' else difficulty_hex\n",
    "gas_limit_hex = '0x' if gas_limit_hex == '0x0' else gas_limit_hex\n",
    "gas_used_hex = '0x' if gas_used_hex == '0x0' else gas_used_hex\n",
    "timestamp_hex = '0x' if timestamp_hex == '0x0' else timestamp_hex\n",
    "# nonce = '0x' if nonce == '0x0000000000000000' else nonce\n",
    "base_fee_per_gas = '0x' if base_fee_per_gas == '0x0' else base_fee_per_gas"
   ],
   "metadata": {
    "collapsed": false
   },
   "id": "28b6fd9e45608a17"
  },
  {
   "cell_type": "code",
   "execution_count": null,
   "outputs": [],
   "source": [
    "coinbase_lower = coinbase.lower()\n",
    "coinbase_lower"
   ],
   "metadata": {
    "collapsed": false
   },
   "id": "d2535473dd0206fe"
  },
  {
   "cell_type": "code",
   "execution_count": null,
   "outputs": [],
   "source": [
    "block_header = [\n",
    "    parent_hash,  # parentHash\n",
    "    uncles_hash,  # ommersHash\n",
    "    coinbase_lower,  #beneficiary\n",
    "    state_root,  # stateRoot\n",
    "    transactions_root,  # transactionsRoot\n",
    "    receipts_root,  # receiptsRoot\n",
    "    bloom,  #logsBloom\n",
    "    difficulty_hex,  # difficulty\n",
    "    number_hex,  # number\n",
    "    gas_limit_hex,  # gasLimit\n",
    "    gas_used_hex,  # gasUsed\n",
    "    timestamp_hex,  # timestamp\n",
    "    extra_data,  # extraData\n",
    "    mix_hash,  # mixHash\n",
    "    nonce,  # nonce\n",
    "    base_fee_per_gas,\n",
    "]"
   ],
   "metadata": {
    "collapsed": false
   },
   "id": "77415eee271e3f87"
  },
  {
   "cell_type": "code",
   "execution_count": null,
   "outputs": [],
   "source": [
    "for i in range(len(block_header)):\n",
    "    # check if they are odd-sized, if so, add a leading 0\n",
    "    if len(block_header[i]) % 2 != 0:\n",
    "        block_header[i] = '0x0' + block_header[i][2:]\n",
    "    block_header[i] = bytes.fromhex(block_header[i][2:])"
   ],
   "metadata": {
    "collapsed": false
   },
   "id": "e4f9c22b775ec5df"
  },
  {
   "cell_type": "code",
   "execution_count": null,
   "outputs": [],
   "source": [
    "import rlp\n",
    "\n",
    "# rlp encode the values\n",
    "rlp_encoded = rlp.encode(block_header)\n",
    "rlp_encoded.hex()"
   ],
   "metadata": {
    "collapsed": false
   },
   "id": "6b0aa2a78db178b4"
  },
  {
   "cell_type": "code",
   "execution_count": null,
   "outputs": [],
   "source": [
    "# hash the rlp encoded values\n",
    "block_hash = web3.keccak(rlp_encoded).hex()\n",
    "assert block_hash == block.hash.hex()"
   ],
   "metadata": {
    "collapsed": false
   },
   "id": "d332f011f8cd2955"
  },
  {
   "cell_type": "code",
   "execution_count": null,
   "outputs": [],
   "source": [],
   "metadata": {
    "collapsed": false
   },
   "id": "c9d0a229050873e4"
  }
 ],
 "metadata": {
  "kernelspec": {
   "display_name": "Python 3",
   "language": "python",
   "name": "python3"
  },
  "language_info": {
   "codemirror_mode": {
    "name": "ipython",
    "version": 2
   },
   "file_extension": ".py",
   "mimetype": "text/x-python",
   "name": "python",
   "nbconvert_exporter": "python",
   "pygments_lexer": "ipython2",
   "version": "2.7.6"
  }
 },
 "nbformat": 4,
 "nbformat_minor": 5
}
